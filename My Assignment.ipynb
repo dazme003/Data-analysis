{
 "cells": [
  {
   "cell_type": "code",
   "execution_count": 1,
   "id": "8c094027",
   "metadata": {},
   "outputs": [
    {
     "name": "stdout",
     "output_type": "stream",
     "text": [
      "Enter the temperature: 29\n",
      "Convert to (C)elsius or (F)ahrenheit? F\n",
      "29.0°C is equal to 84.20°F\n"
     ]
    }
   ],
   "source": [
    "temp = float(input(\"Enter the temperature: \"))\n",
    "conversion = input(\"Convert to (C)elsius or (F)ahrenheit? \").upper()\n",
    "\n",
    "# Perform the conversion\n",
    "if conversion == 'C':\n",
    "    celsius = (temp - 32) * 5/9\n",
    "    print(f\"{temp}°F is equal to {celsius:.2f}°C\")\n",
    "elif conversion == 'F':\n",
    "    fahrenheit = (temp * 9/5) + 32\n",
    "    print(f\"{temp}°C is equal to {fahrenheit:.2f}°F\")\n",
    "else:\n",
    "    print(\"Invalid option! Please enter C, F:\")\n"
   ]
  },
  {
   "cell_type": "code",
   "execution_count": 2,
   "id": "27575959",
   "metadata": {},
   "outputs": [
    {
     "name": "stdout",
     "output_type": "stream",
     "text": [
      "Enter the temperature: 34\n",
      "Convert to (C)elsius or (F)ahrenheit? C\n",
      "34.0°F is equal to 1.11°C\n"
     ]
    }
   ],
   "source": [
    "temp = float(input(\"Enter the temperature: \"))\n",
    "conversion = input(\"Convert to (C)elsius or (F)ahrenheit? \").upper()\n",
    "\n",
    "# Perform the conversion\n",
    "if conversion == 'C':\n",
    "    celsius = (temp - 32) * 5/9\n",
    "    print(f\"{temp}°F is equal to {celsius:.2f}°C\")\n",
    "elif conversion == 'F':\n",
    "    fahrenheit = (temp * 9/5) + 32\n",
    "    print(f\"{temp}°C is equal to {fahrenheit:.2f}°F\")\n",
    "else:\n",
    "    print(\"Invalid option! Please enter C, F:\")\n"
   ]
  },
  {
   "cell_type": "code",
   "execution_count": 3,
   "id": "24d707ad",
   "metadata": {},
   "outputs": [
    {
     "name": "stdout",
     "output_type": "stream",
     "text": [
      "Enter the first number: 500\n",
      "Enter the second number: 1000\n",
      "Enter the operation (+, -, *, /): +\n",
      "The result is: 1500.0\n"
     ]
    }
   ],
   "source": [
    " num1 = float(input(\"Enter the first number: \"))\n",
    "num2 = float(input(\"Enter the second number: \"))\n",
    "operation = input(\"Enter the operation (+, -, *, /): \")\n",
    "\n",
    "if operation == '+':\n",
    "    result = num1 + num2\n",
    "elif operation == '-':\n",
    "    result = num1 - num2\n",
    "elif operation == '*':\n",
    "    result = num1 * num2\n",
    "elif operation == '/':\n",
    "    if num2 != 0:\n",
    "        result = num1 / num2\n",
    "    else:\n",
    "        result = \"Error: Division by zero!\"\n",
    "else:\n",
    "    result = \"Invalid operation!\"\n",
    "\n",
    " #Print the result\n",
    "print(f\"The result is: {result}\")"
   ]
  },
  {
   "cell_type": "code",
   "execution_count": 4,
   "id": "91c3d26b",
   "metadata": {},
   "outputs": [
    {
     "name": "stdout",
     "output_type": "stream",
     "text": [
      "Enter the first number: 3000\n",
      "Enter the second number: 2000\n",
      "Enter the operation (+, -, *, /): -\n",
      "The result is: 1000.0\n"
     ]
    }
   ],
   "source": [
    "num1 = float(input(\"Enter the first number: \"))\n",
    "num2 = float(input(\"Enter the second number: \"))\n",
    "operation = input(\"Enter the operation (+, -, *, /): \")\n",
    "\n",
    "if operation == '+':\n",
    "    result = num1 + num2\n",
    "elif operation == '-':\n",
    "    result = num1 - num2\n",
    "elif operation == '*':\n",
    "    result = num1 * num2\n",
    "elif operation == '/':\n",
    "    if num2 != 0:\n",
    "        result = num1 / num2\n",
    "    else:\n",
    "        result = \"Error: Division by zero!\"\n",
    "else:\n",
    "    result = \"Invalid operation!\"\n",
    "\n",
    " #Print the result\n",
    "print(f\"The result is: {result}\")"
   ]
  },
  {
   "cell_type": "code",
   "execution_count": 5,
   "id": "882642b9",
   "metadata": {},
   "outputs": [
    {
     "name": "stdout",
     "output_type": "stream",
     "text": [
      "Enter an integer: 5\n",
      "The number 5 is odd.\n"
     ]
    }
   ],
   "source": [
    "# Get user input for the number\n",
    "number = int(input(\"Enter an integer: \"))\n",
    "\n",
    "# Check if the number is odd or even\n",
    "if number % 2 == 0:\n",
    "    print(f\"The number {number} is even.\")\n",
    "else:\n",
    "    print(f\"The number {number} is odd.\")"
   ]
  },
  {
   "cell_type": "code",
   "execution_count": 6,
   "id": "e6c1f873",
   "metadata": {},
   "outputs": [
    {
     "name": "stdout",
     "output_type": "stream",
     "text": [
      "Enter an integer: 4\n",
      "The number 4 is even.\n"
     ]
    }
   ],
   "source": [
    "# Get user input for the number\n",
    "number = int(input(\"Enter an integer: \"))\n",
    "\n",
    "# Check if the number is odd or even\n",
    "if number % 2 == 0:\n",
    "    print(f\"The number {number} is even.\")\n",
    "else:\n",
    "    print(f\"The number {number} is odd.\")"
   ]
  },
  {
   "cell_type": "code",
   "execution_count": null,
   "id": "20dd7a9b",
   "metadata": {},
   "outputs": [],
   "source": []
  }
 ],
 "metadata": {
  "kernelspec": {
   "display_name": "Python 3 (ipykernel)",
   "language": "python",
   "name": "python3"
  },
  "language_info": {
   "codemirror_mode": {
    "name": "ipython",
    "version": 3
   },
   "file_extension": ".py",
   "mimetype": "text/x-python",
   "name": "python",
   "nbconvert_exporter": "python",
   "pygments_lexer": "ipython3",
   "version": "3.8.10"
  }
 },
 "nbformat": 4,
 "nbformat_minor": 5
}
